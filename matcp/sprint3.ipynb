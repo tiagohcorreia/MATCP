{
 "cells": [
  {
   "cell_type": "markdown",
   "id": "ea5923bf9fe65c6c",
   "metadata": {
    "collapsed": false,
    "jupyter": {
     "outputs_hidden": false
    }
   },
   "source": [
    "# US15\n",
    "\n",
    "- This User Story aims to predict the average monthly water consumption cost for a new park based on its size. \n",
    "- Using data provided in the file \"water consumption updated.csv,\" which includes daily expenses and areas of various parks, we will develop a linear regression model. \n",
    "- The goal is to establish a relationship between the park area (in hectares) and the average monthly cost associated with water consumption."
   ]
  },
  {
   "cell_type": "markdown",
   "id": "a5a5c5bb9dabd47b",
   "metadata": {
    "collapsed": false,
    "jupyter": {
     "outputs_hidden": false
    }
   },
   "source": [
    "## Setup\n",
    "\n",
    "- Import the necessary libraries"
   ]
  },
  {
   "cell_type": "code",
   "execution_count": 6,
   "id": "a824d163a98c6350",
   "metadata": {
    "ExecuteTime": {
     "end_time": "2024-06-01T13:11:45.468335500Z",
     "start_time": "2024-06-01T13:11:45.251749100Z"
    },
    "collapsed": false,
    "jupyter": {
     "outputs_hidden": false
    }
   },
   "outputs": [],
   "source": [
    "import matplotlib.pyplot as plt\n",
    "from scipy import stats\n",
    "import numpy as np\n",
    "import pandas as pd\n",
    "from scipy.stats import pearsonr"
   ]
  },
  {
   "cell_type": "markdown",
   "id": "26077c14c74e8552",
   "metadata": {
    "collapsed": false,
    "jupyter": {
     "outputs_hidden": false
    }
   },
   "source": [
    "### Load data\n",
    "\n",
    "- Load the data from the files \"water_consumption_updated.csv\" and \"Area.csv.\""
   ]
  },
  {
   "cell_type": "code",
   "execution_count": 7,
   "id": "620d284335b5a64a",
   "metadata": {
    "ExecuteTime": {
     "end_time": "2024-06-01T13:11:45.510759100Z",
     "start_time": "2024-06-01T13:11:45.269579200Z"
    },
    "collapsed": false,
    "jupyter": {
     "outputs_hidden": false
    }
   },
   "outputs": [
    {
     "data": {
      "text/html": [
       "<div>\n",
       "<style scoped>\n",
       "    .dataframe tbody tr th:only-of-type {\n",
       "        vertical-align: middle;\n",
       "    }\n",
       "\n",
       "    .dataframe tbody tr th {\n",
       "        vertical-align: top;\n",
       "    }\n",
       "\n",
       "    .dataframe thead th {\n",
       "        text-align: right;\n",
       "    }\n",
       "</style>\n",
       "<table border=\"1\" class=\"dataframe\">\n",
       "  <thead>\n",
       "    <tr style=\"text-align: right;\">\n",
       "      <th></th>\n",
       "      <th>Park</th>\n",
       "      <th>Area</th>\n",
       "    </tr>\n",
       "  </thead>\n",
       "  <tbody>\n",
       "    <tr>\n",
       "      <th>0</th>\n",
       "      <td>Oriental</td>\n",
       "      <td>15</td>\n",
       "    </tr>\n",
       "    <tr>\n",
       "      <th>1</th>\n",
       "      <td>Cidade</td>\n",
       "      <td>69,9</td>\n",
       "    </tr>\n",
       "    <tr>\n",
       "      <th>2</th>\n",
       "      <td>SaoRoque</td>\n",
       "      <td>5,8</td>\n",
       "    </tr>\n",
       "    <tr>\n",
       "      <th>3</th>\n",
       "      <td>Covelo</td>\n",
       "      <td>7,7</td>\n",
       "    </tr>\n",
       "    <tr>\n",
       "      <th>4</th>\n",
       "      <td>ArcaAgua</td>\n",
       "      <td>2,6</td>\n",
       "    </tr>\n",
       "  </tbody>\n",
       "</table>\n",
       "</div>"
      ],
      "text/plain": [
       "       Park  Area\n",
       "0  Oriental    15\n",
       "1    Cidade  69,9\n",
       "2  SaoRoque   5,8\n",
       "3    Covelo   7,7\n",
       "4  ArcaAgua   2,6"
      ]
     },
     "execution_count": 7,
     "metadata": {},
     "output_type": "execute_result"
    }
   ],
   "source": [
    "data1 = pd.read_csv('us15/water_consumption_updated.csv', sep=';')\n",
    "data2 = pd.read_csv('us15/Area.csv', sep=';')\n",
    "\n",
    "data1.head()\n",
    "data2.head()"
   ]
  },
  {
   "cell_type": "markdown",
   "id": "11730cea36138e39",
   "metadata": {
    "collapsed": false,
    "jupyter": {
     "outputs_hidden": false
    }
   },
   "source": [
    "## Calculate the Average Water Consumption for Each Park"
   ]
  },
  {
   "cell_type": "code",
   "execution_count": 8,
   "id": "4bd7e144c044df84",
   "metadata": {
    "ExecuteTime": {
     "end_time": "2024-06-01T13:11:45.510759100Z",
     "start_time": "2024-06-01T13:11:45.303187700Z"
    },
    "collapsed": false,
    "jupyter": {
     "outputs_hidden": false
    }
   },
   "outputs": [],
   "source": [
    "# Replace commas with periods and convert to float\n",
    "data1['Consumption'] = data1['Consumption'].str.replace(',', '.').astype(float)\n",
    "\n",
    "# Calculate the average water consumption for each park\n",
    "average_water_consumption = data1.groupby('Park')['Consumption'].mean()\n",
    "\n",
    "# Merge the avarage data with the area data\n",
    "merged_data = pd.merge(data2, average_water_consumption, on='Park')\n",
    "\n",
    "# Save new data to a csv file\n",
    "merged_data.to_csv('us15/merged_data.csv', sep=';', index=False)"
   ]
  },
  {
   "cell_type": "markdown",
   "id": "dc75f0b5c12975f5",
   "metadata": {
    "collapsed": false,
    "jupyter": {
     "outputs_hidden": false
    }
   },
   "source": []
  },
  {
   "cell_type": "markdown",
   "id": "8c4536196126c3a6",
   "metadata": {
    "collapsed": false,
    "jupyter": {
     "outputs_hidden": false
    }
   },
   "source": [
    "## Plot The Data"
   ]
  },
  {
   "cell_type": "code",
   "execution_count": 9,
   "id": "1a4d415c85f947f6",
   "metadata": {
    "ExecuteTime": {
     "end_time": "2024-06-01T13:11:45.812986700Z",
     "start_time": "2024-06-01T13:11:45.331082900Z"
    },
    "collapsed": false,
    "jupyter": {
     "outputs_hidden": false
    }
   },
   "outputs": [
    {
     "data": {
      "image/png": "[encoded data removed]",
      "text/plain": [
       "<Figure size 640x480 with 1 Axes>"
      ]
     },
     "metadata": {},
     "output_type": "display_data"
    }
   ],
   "source": [
    "data3 = pd.read_csv('us15/merged_data.csv', sep=';')\n",
    "\n",
    "data3['Area'] = data3['Area'].str.replace(',', '.').astype(float)\n",
    "data3['Consumption'] = data3['Consumption'].astype(float)\n",
    "\n",
    "x = data3['Area']\n",
    "y = data3['Consumption']\n",
    "\n",
    "plt.plot(x, y, 'o')\n",
    "plt.xlabel('Area')\n",
    "plt.ylabel('Consumption')\n",
    "plt.show()"
   ]
  },
  {
   "cell_type": "markdown",
   "id": "3a488f9d95d0994d",
   "metadata": {
    "collapsed": false,
    "jupyter": {
     "outputs_hidden": false
    }
   },
   "source": [
    "## Calculate the Correlation Coefficient\n",
    "\n",
    "The correlation coefficient is a measure of the strength and direction of a linear relationship between two variables and is calculated as follows:\n",
    "\n",
    "$$ r = \\frac{S_{xy}}{\\sqrt{S_{xx} \\cdot S_{yy}}}, \\quad -1 \\leq r \\leq 1 $$\n",
    "\n",
    "- $(S_{xx} = \\sum_{i=1}^{n} (x_i - \\bar{x})^2, \\quad S_{yy} = \\sum_{i=1}^{n} (y_i - \\bar{y})^2, \\quad S_{xy} = \\sum_{i=1}^{n}(x_i - \\bar{x})(y_i - \\bar{y}))$\n",
    "- $(x_1,...,x_n)$ and $(y_1,...,y_n)$ are the observed values of each variable.\n",
    "- $(\\bar{x})$ and $(\\bar{y})$ are the means of the values $(x_1,...,x_n)$ and $(y_1,...,y_n)$, respectively.\n",
    "\n",
    "The correlation coefficient (r) can be interpreted as follows:\n",
    "\n",
    "1. \\(r > 0\\), indicates a **positive linear association** between the two variables. This means that as the values of one variable increase, there is a tendency for the values of the other variable to also increase.\n",
    "2. \\(r < 0\\), indicates a **negative linear association** between the two variables. In this case, as the values of one variable increase, there is a tendency for the values of the other variable to decrease.\n",
    "3. \\(|r| = 1\\), indicates a **perfect linear correlation** between the variables. The obtained sign $(\\(\\pm\\))$ indicates the direction of this relationship.\n",
    "\n",
    "| Correlation Coefficient  |   Interpretation    |\n",
    "|:------------------------:|:-------------------:|\n",
    "|        \\(r = 1\\)         |  Perfect positive   |\n",
    "|   $\\(0.8 \\leq r < 1\\)$   |   Strong positive   |\n",
    "|  $\\(0.5 \\leq r < 0.8\\)$  |  Moderate positive  |\n",
    "|  $\\(0.1 \\leq r < 0.5\\)$  |    Weak positive    |\n",
    "|    $\\(0 < r < 0.1\\)$     | Very weak positive  |\n",
    "|       $\\(r = 0\\)$        |        None         |\n",
    "|    $\\(-0.1 < r < 0\\)$    | Very weak negative  |\n",
    "| $\\(-0.5 < r \\leq -0.1\\)$ |    Weak negative    |\n",
    "| $\\(-0.8 < r \\leq -0.5\\)$ |  Moderate negative  |\n",
    "|  $\\(-1 < r \\leq -0.8\\)$  |   Strong negative   |\n",
    "|       $\\(r = -1\\)$       |  Perfect negative   |"
   ]
  },
  {
   "cell_type": "code",
   "execution_count": 10,
   "id": "76d92980ab164c40",
   "metadata": {
    "ExecuteTime": {
     "end_time": "2024-06-01T13:11:45.812986700Z",
     "start_time": "2024-06-01T13:11:45.746223300Z"
    },
    "collapsed": false,
    "jupyter": {
     "outputs_hidden": false
    }
   },
   "outputs": [
    {
     "name": "stdout",
     "output_type": "stream",
     "text": [
      "correlation_coefficient r = 0.9475\n"
     ]
    }
   ],
   "source": [
    "correlation_coefficient = pearsonr(x, y)\n",
    "print(f'correlation_coefficient r = {correlation_coefficient[0]:.4f}')"
   ]
  },
  {
   "cell_type": "markdown",
   "id": "af821c57fd61071c",
   "metadata": {
    "collapsed": false,
    "jupyter": {
     "outputs_hidden": false
    }
   },
   "source": [
    "## Calculate the Linear Regression\n",
    "\n",
    "- It defines a set of statistical techniques used to model relationships between variables and predict the value of one or more dependent variables from a set of independent variables.\n",
    "- It is a statistical methodology in which the relationship between the dependent variable and the independent variable is represented by a straight line, and it is used to predict the behavior of the dependent variable from the knowledge of the independent variable.\n",
    "- The relationship between these two variables is probabilistic because the relationship is not exact, meaning the value of y for the random variable (response) Y is not uniquely determined when the value of the independent variable x is specified."
   ]
  },
  {
   "cell_type": "code",
   "execution_count": 11,
   "id": "eac17a525653f7a2",
   "metadata": {
    "ExecuteTime": {
     "end_time": "2024-06-01T13:11:46.164958800Z",
     "start_time": "2024-06-01T13:11:45.765140Z"
    },
    "collapsed": false,
    "jupyter": {
     "outputs_hidden": false
    }
   },
   "outputs": [
    {
     "name": "stdout",
     "output_type": "stream",
     "text": [
      "The regression line is y = 5.0535 + 1.4224x\n"
     ]
    },
    {
     "data": {
      "image/png": "[encoded data removed]",
      "text/plain": [
       "<Figure size 640x480 with 1 Axes>"
      ]
     },
     "metadata": {},
     "output_type": "display_data"
    }
   ],
   "source": [
    "model = stats.linregress(x, y)\n",
    "print(f'The regression line is y = {model.intercept:.4f} + {model.slope:.4f}x')\n",
    "\n",
    "plt.plot(x, y, 'o', label='Original Data')\n",
    "plt.plot(x, model.intercept + model.slope * np.array(x), label='Fitted Line')\n",
    "plt.xlabel('x')\n",
    "plt.ylabel('y')\n",
    "plt.legend()\n",
    "plt.show()"
   ]
  },
  {
   "cell_type": "markdown",
   "id": "76c34e808f0ed9cd",
   "metadata": {
    "collapsed": false,
    "jupyter": {
     "outputs_hidden": false
    }
   },
   "source": [
    "## Calculate Residuals"
   ]
  },
  {
   "cell_type": "code",
   "execution_count": 12,
   "id": "51c2cfa4d93a025b",
   "metadata": {
    "ExecuteTime": {
     "end_time": "2024-06-01T13:11:46.569093500Z",
     "start_time": "2024-06-01T13:11:46.171006600Z"
    },
    "collapsed": false,
    "jupyter": {
     "outputs_hidden": false
    }
   },
   "outputs": [
    {
     "name": "stdout",
     "output_type": "stream",
     "text": [
      "The sum of the residuals is 0.000000000000055\n"
     ]
    },
    {
     "data": {
      "image/png": "[encoded data removed]",
      "text/plain": [
       "<Figure size 640x480 with 1 Axes>"
      ]
     },
     "metadata": {},
     "output_type": "display_data"
    }
   ],
   "source": [
    "residuals = [yi - (model.intercept + model.slope * xi) for xi, yi in zip(x, y)] # yi - yi^\n",
    "\n",
    "print(f'The sum of the residuals is {np.sum(residuals):.15f}')\n",
    "\n",
    "plt.plot(x, residuals, 'o')\n",
    "plt.xlabel('x')\n",
    "plt.ylabel('residuals')\n",
    "plt.show()"
   ]
  },
  {
   "cell_type": "markdown",
   "id": "11a1f006",
   "metadata": {},
   "source": [
    "# US16"
   ]
  },
  {
   "cell_type": "markdown",
   "id": "9dfb79ab",
   "metadata": {},
   "source": [
    "### Consider the data and results associated with US14. Applying polynomial regression, determine the best line that fits the data."
   ]
  },
  {
   "cell_type": "markdown",
   "id": "9b3a7dbd",
   "metadata": {},
   "source": [
    "By defining the independent variable \"x\" as the \"time\" values and by drawing the graphic, we see that the function appears to be logarithmic. As such we can't apply linear regression to it. If we apply polynomial regression however, to the second degree, we can use this formula:\n",
    "$$\n",
    "y = \\beta_{0} + \\beta_{1}x + \\beta_{2}x^2 + \\epsilon\n",
    "$$\n",
    "And applying that formula to all values, we get the corresponding line.\n",
    "\n",
    "A higher degree would give us more values to add, like:\n",
    "$$\n",
    "y = \\beta_{0} + \\beta_{1}x + \\beta_{2}x^2 + ... + \\beta_{m}x^m + \\epsilon\n",
    "$$\n",
    "Which would give us a more precise line, related to the values distribution.\n",
    "\n",
    "Using Python, the corresponding function is `polyfit()`."
   ]
  },
  {
   "cell_type": "code",
   "execution_count": 42,
   "id": "d62093d8",
   "metadata": {},
   "outputs": [],
   "source": [
    "data = pd.read_csv('us16/solution_us14.csv', delimiter=';', decimal=',')\n",
    "x = data['time']\n",
    "y = data['size']"
   ]
  },
  {
   "cell_type": "code",
   "execution_count": 44,
   "id": "8465f3e2",
   "metadata": {},
   "outputs": [
    {
     "data": {
      "image/png": "[encoded data removed]",
      "text/plain": [
       "<Figure size 640x480 with 1 Axes>"
      ]
     },
     "metadata": {},
     "output_type": "display_data"
    }
   ],
   "source": [
    "plt.plot(x, y, 'o')\n",
    "model = np.poly1d(np.polyfit(x, y, 2))\n",
    "reg_line = np.linspace(x[0], x[len(x) - 1])\n",
    "plt.plot(reg_line, model(reg_line))\n",
    "plt.xlabel('Time'); plt.ylabel('Size')\n",
    "plt.show()"
   ]
  },
  {
   "cell_type": "markdown",
   "id": "7470eac3",
   "metadata": {},
   "source": [
    "If we look at the visual representation on the graph, we see that the curved line from the polynomial regression overlaps the values much better than if it were a straight line, calculated through the linear regression."
   ]
  },
  {
   "cell_type": "markdown",
   "id": "7b502890",
   "metadata": {},
   "source": [
    "## contribution of each team member to the development of the work\n",
    "1070399 - 50%\n",
    "\n",
    "1211742 - 50%"
   ]
  }
 ],
 "metadata": {
  "kernelspec": {
   "display_name": "Python 3 (ipykernel)",
   "language": "python",
   "name": "python3"
  },
  "language_info": {
   "codemirror_mode": {
    "name": "ipython",
    "version": 3
   },
   "file_extension": ".py",
   "mimetype": "text/x-python",
   "name": "python",
   "nbconvert_exporter": "python",
   "pygments_lexer": "ipython3",
   "version": "3.12.4"
  }
 },
 "nbformat": 4,
 "nbformat_minor": 5
}
